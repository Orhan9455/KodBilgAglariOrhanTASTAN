{
 "cells": [
  {
   "cell_type": "code",
   "execution_count": null,
   "id": "e5713a21",
   "metadata": {},
   "outputs": [],
   "source": [
    "import random\n",
    "\n",
    "class Node:\n",
    "    def __init__(self, id, energy):\n",
    "        self.id = id\n",
    "        self.energy = energy\n",
    "        self.messages_received = []\n",
    "\n",
    "    def receive_message(self, message):\n",
    "        if self.check_energy() and self.validate_message(message):\n",
    "            self.messages_received.append(message)\n",
    "            print(f\"Message {message['id']} received by Node {self.id}\")\n",
    "            self.energy -= 1  # Enerji tüketimi simülasyonu\n",
    "            return True\n",
    "        return False\n",
    "\n",
    "    def check_energy(self):\n",
    "        return self.energy > 0\n",
    "\n",
    "    def validate_message(self, message):\n",
    "        # Güvenlik kontrolü (basit simülasyon)\n",
    "        return 'content' in message\n",
    "\n",
    "class Network:\n",
    "    def __init__(self):\n",
    "        self.nodes = [Node(i, random.randint(5, 10)) for i in range(5)]\n",
    "        self.edges = {(i, j): random.random() for i in range(5) for j in range(5) if i != j}\n",
    "\n",
    "    def send_message(self, message, start_node):\n",
    "        current_node = self.nodes[start_node]\n",
    "        for step in range(5):  # Maksimum 5 adımda iletilecek\n",
    "            next_node = self.select_next_hop(current_node)\n",
    "            if next_node and next_node.receive_message(message):\n",
    "                print(f\"Message {message['id']} successfully delivered to Node {next_node.id}\")\n",
    "                return\n",
    "            print(f\"Message {message['id']} failed to deliver from Node {current_node.id}\")\n",
    "        print(\"Failed to deliver the message after 5 steps.\")\n",
    "\n",
    "    def select_next_hop(self, current_node):\n",
    "        neighbors = [node for node in self.nodes if (current_node.id, node.id) in self.edges and node.check_energy()]\n",
    "        if not neighbors:\n",
    "            return None\n",
    "        # Enerjiye göre filtreleme ve rastgele seçim\n",
    "        return max(neighbors, key=lambda x: x.energy * self.edges[(current_node.id, x.id)])\n",
    "\n",
    "# Ağın oluşturulması ve mesaj iletimi\n",
    "network = Network()\n",
    "message = {'id': 1, 'content': 'Hello from Node 0'}\n",
    "network.send_message(message, 0)"
   ]
  }
 ],
 "metadata": {
  "kernelspec": {
   "display_name": "Python 3 (ipykernel)",
   "language": "python",
   "name": "python3"
  },
  "language_info": {
   "codemirror_mode": {
    "name": "ipython",
    "version": 3
   },
   "file_extension": ".py",
   "mimetype": "text/x-python",
   "name": "python",
   "nbconvert_exporter": "python",
   "pygments_lexer": "ipython3",
   "version": "3.11.5"
  }
 },
 "nbformat": 4,
 "nbformat_minor": 5
}
